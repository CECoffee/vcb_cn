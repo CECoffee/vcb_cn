{
 "cells": [
  {
   "cell_type": "markdown",
   "metadata": {
    "collapsed": false
   },
   "source": [
    "# Godot 翻译\n",
    "使用 Kotlin Notebook\n",
    "\n",
    "## 物料准备\n",
    "[Godot Pck Tool](https://github.com/hhyyrylainen/GodotPckTool)\n",
    "\n",
    "提取资源文件至 extracted 目录\n",
    "```\n",
    ".\\godotpcktool.exe .\\vcb.pck -a e -o extracted\n",
    "```\n",
    "打包 extracted 目录的资源至 vcb.pck 文件\n",
    "```\n",
    ".\\godotpcktool.exe .\\vcb.pck -a a extracted --remove-prefix extracted\n",
    "```"
   ]
  },
  {
   "cell_type": "code",
   "metadata": {
    "jupyter": {
     "is_executing": true
    }
   },
   "source": [
    "val workspace = \"D:\\\\Directory\\\\PycharmProjects\\\\vcb_cn\"\n",
    "\n",
    "// 提取出的资源目录\n",
    "val extractedDirPath = workspace + \"\\\\extracted\"\n",
    "\n",
    "// 工作目录: vcb.json 与 vcb_cn.json 保存的目录\n",
    "val workDirPath = workspace + \"\\\\mapping\"\n",
    "\n",
    "// 原文 json 文件名\n",
    "val mappingKeyFileName = \"vcb.json\"\n",
    "\n",
    "// 译文 json 文件名\n",
    "val mappingValueFileName = \"vcb_cn.json\"\n",
    "// 旧版本 json 文件名\n",
    "val mappingKeyFileNameOld = \"vcb_0.3.json\"\n",
    "\n",
    "// 旧版本译文 json 文件名\n",
    "val mappingValueFileNameOld = \"vcb_cn_0.3.json\""
   ],
   "outputs": [],
   "execution_count": null
  },
  {
   "cell_type": "code",
   "metadata": {
    "collapsed": false,
    "ExecuteTime": {
     "end_time": "2025-07-07T18:32:38.971250Z",
     "start_time": "2025-07-07T18:32:38.955406Z"
    }
   },
   "source": [
    "// 提取所有文本\n",
    "val regex = \"\"\"(text|hint_tooltip|title|description) = \"([\\W\\w]*?[^\\\\])\"\"\"\".toRegex()"
   ],
   "outputs": [],
   "execution_count": 4
  },
  {
   "cell_type": "code",
   "execution_count": 11,
   "metadata": {
    "ExecuteTime": {
     "end_time": "2023-10-16T14:01:36.871285Z",
     "start_time": "2023-10-16T14:01:36.836285100Z"
    },
    "collapsed": false
   },
   "outputs": [],
   "source": [
    "// 初始化\n",
    "import java.io.File\n",
    "val folder = File(extractedDirPath)"
   ]
  },
  {
   "cell_type": "code",
   "execution_count": 5,
   "metadata": {
    "ExecuteTime": {
     "end_time": "2023-10-15T20:52:26.110974700Z",
     "start_time": "2023-10-15T20:52:25.724412300Z"
    },
    "collapsed": false
   },
   "outputs": [],
   "source": [
    "// 已有 vcb.json 文件后不需要再次提取\n",
    "// 提取所有文本内容至指定文件(mappingKeyFileName指定的文件)\n",
    "\n",
    "import kotlinx.serialization.json.JsonArray\n",
    "import kotlinx.serialization.json.JsonPrimitive\n",
    "\n",
    "val mappingKeys = folder.walk()\n",
    "    .filter { (it.isFile && it.extension == \"tscn\") }\n",
    "    .map { tscn ->\n",
    "        val data = tscn.readText()\n",
    "        regex.findAll(data).map {\n",
    "            it.groupValues[2]\n",
    "        }.toList()\n",
    "    }.flatMap {\n",
    "        it\n",
    "    }.toSet() // toSet 去除重复文本\n",
    "val json = JsonArray(mappingKeys.map { JsonPrimitive(it) }).toString()\n",
    "val output = File(workDirPath, mappingKeyFileName)\n",
    "output.writeText(json)"
   ]
  },
  {
   "cell_type": "code",
   "execution_count": 6,
   "metadata": {
    "ExecuteTime": {
     "end_time": "2023-08-03T20:33:38.344415Z",
     "start_time": "2023-08-03T20:33:38.321415300Z"
    },
    "collapsed": false
   },
   "outputs": [],
   "source": [
    "// 翻译过程：将 vcb.json 文件拷贝一份到 vcb_cn.json，然后使用其他工具(如 ChatGPT )进行翻译"
   ]
  },
  {
   "cell_type": "code",
   "execution_count": 4,
   "metadata": {
    "ExecuteTime": {
     "end_time": "2023-10-16T13:53:54.760875200Z",
     "start_time": "2023-10-16T13:53:54.063761200Z"
    },
    "collapsed": false
   },
   "outputs": [],
   "source": [
    "// 增量翻译：使用过去的映射表翻译当前的翻译文件\n",
    "@file:DependsOn(\"com.google.code.gson:gson:2.10.1\")\n",
    "\n",
    "import com.google.gson.Gson\n",
    "import kotlinx.serialization.json.jsonArray\n",
    "import kotlinx.serialization.json.jsonObject\n",
    "\n",
    "val untranslatedFile = File(workDirPath, mappingKeyFileName)\n",
    "val untranslatedText = untranslatedFile.readText()\n",
    "val untranslatedList = Gson().fromJson<List<String>>(untranslatedText, ArrayList::class.java)\n",
    "\n",
    "val untranslatedOldFile = File(workDirPath, mappingKeyFileNameOld)\n",
    "val untranslatedOldText = untranslatedOldFile.readText()\n",
    "val untranslatedOldList = Gson().fromJson<List<String>>(untranslatedOldText, ArrayList::class.java)\n",
    "\n",
    "val translatedOldFile = File(workDirPath, mappingValueFileNameOld)\n",
    "val translatedOldText = translatedOldFile.readText()\n",
    "val translatedOldList = Gson().fromJson<List<String>>(translatedOldText, ArrayList::class.java)\n",
    "\n",
    "val patchedKeyList = mutableListOf<String>()\n",
    "var unpatchList = mutableListOf<String>()\n",
    "val patchList = untranslatedList.mapNotNull { key ->\n",
    "    val oldIndex = untranslatedOldList.indexOf(key)\n",
    "    if (oldIndex != -1) {\n",
    "        patchedKeyList.add(key)\n",
    "        translatedOldList[oldIndex]\n",
    "    } else {\n",
    "        // 将未翻译的内容追加到末尾\n",
    "        unpatchList.add(key)\n",
    "        null\n",
    "    }\n",
    "}\n",
    "// 写入翻译文件并更新原映射关系\n",
    "File(workDirPath, mappingKeyFileName).writeText(Gson().toJson(patchedKeyList + unpatchList))\n",
    "File(workDirPath, mappingValueFileName).writeText(Gson().toJson(patchList + unpatchList))"
   ]
  },
  {
   "cell_type": "code",
   "execution_count": null,
   "metadata": {
    "collapsed": false
   },
   "outputs": [],
   "source": [
    "// 检查翻译正确性\n",
    "// todo\n"
   ]
  },
  {
   "cell_type": "code",
   "execution_count": 12,
   "metadata": {
    "ExecuteTime": {
     "end_time": "2023-10-16T14:01:48.674772600Z",
     "start_time": "2023-10-16T14:01:48.552772600Z"
    },
    "collapsed": false
   },
   "outputs": [],
   "source": [
    "// 制作翻译映射表\n",
    "@file:DependsOn(\"com.google.code.gson:gson:2.10.1\")\n",
    "\n",
    "import com.google.gson.Gson\n",
    "import kotlinx.serialization.json.jsonArray\n",
    "import kotlinx.serialization.json.jsonObject\n",
    "\n",
    "val untranslatedFile = File(workDirPath, mappingKeyFileName)\n",
    "val untranslatedText = untranslatedFile.readText()\n",
    "val untranslatedList = Gson().fromJson<List<String>>(untranslatedText, ArrayList::class.java)\n",
    "\n",
    "val translatedFile = File(workDirPath, mappingValueFileName)\n",
    "val translatedText = translatedFile.readText()\n",
    "val translatedList = Gson().fromJson<List<String>>(translatedText, ArrayList::class.java)\n",
    "\n",
    "val map = untranslatedList.mapIndexed { index, s ->\n",
    "    Pair(s, translatedList[index])\n",
    "}.toMap()"
   ]
  },
  {
   "cell_type": "code",
   "execution_count": 13,
   "metadata": {
    "ExecuteTime": {
     "end_time": "2023-10-16T14:02:10.992593200Z",
     "start_time": "2023-10-16T14:02:10.872593800Z"
    },
    "collapsed": false
   },
   "outputs": [
    {
     "name": "stdout",
     "output_type": "stream",
     "text": [
      "替换完成，共完成 699 次替换\r\n"
     ]
    }
   ],
   "source": [
    "// 开始翻译\n",
    "// 更新文件夹下所有 .tscn 文件\n",
    "import java.io.FileFilter\n",
    "\n",
    "var counter = 0\n",
    "folder.walk()\n",
    "    .filter { (it.isFile && it.extension == \"tscn\") }\n",
    "    .forEach { tscn ->\n",
    "        val data = tscn.readText()\n",
    "        val newData = data.replace(regex) { mr ->\n",
    "            val newText = map[mr.groupValues[2]]\n",
    "            if (newText == null) {\n",
    "                println(\"找不到{ ${mr.groupValues[2]} }的译文，不做替换\")\n",
    "                mr.value\n",
    "            } else {\n",
    "                counter++\n",
    "                \"\"\"${mr.groupValues[1]} = \"$newText\"\"\"\"\n",
    "            }\n",
    "        }\n",
    "        tscn.writeText(newData)\n",
    "    }\n",
    "println(\"替换完成，共完成 $counter 次替换\")"
   ]
  },
  {
   "cell_type": "markdown",
   "metadata": {
    "collapsed": false
   },
   "source": [
    "后续操作：替换assets/fonts下的所有 FiraSans 为任意支持中文的字体，注意保持文件名相同\n",
    "\n",
    "使用以下命令打包\n",
    "```\n",
    ".\\godotpcktool.exe .\\vcb.pck -a a extracted --remove-prefix extracted\n",
    "```"
   ]
  }
 ],
 "metadata": {
  "kernelspec": {
   "display_name": "Python [conda env:base] *",
   "language": "python",
   "name": "conda-base-py"
  },
  "ktnbPluginMetadata": {
   "isAddProjectLibrariesToClasspath": false
  },
  "language_info": {
   "codemirror_mode": "text/x-kotlin",
   "file_extension": ".kt",
   "mimetype": "text/x-kotlin",
   "name": "kotlin",
   "nbconvert_exporter": "",
   "pygments_lexer": "kotlin",
   "version": "1.8.20"
  }
 },
 "nbformat": 4,
 "nbformat_minor": 0
}
