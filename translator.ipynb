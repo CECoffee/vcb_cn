{
 "cells": [
  {
   "cell_type": "markdown",
   "source": [
    "# Godot 翻译\n",
    "使用 Kotlin Notebook\n",
    "\n",
    "## 物料准备\n",
    "[Godot Pck Tool](https://github.com/hhyyrylainen/GodotPckTool)\n",
    "\n",
    "提取资源文件至 extracted 目录\n",
    "```\n",
    ".\\godotpcktool.exe .\\vcb.pck -a e -o extracted\n",
    "```\n",
    "打包 extracted 目录的资源至 vcb.pck 文件\n",
    "```\n",
    ".\\godotpcktool.exe .\\vcb.pck -a a extracted --remove-prefix extracted\n",
    "```"
   ],
   "metadata": {
    "collapsed": false
   }
  },
  {
   "cell_type": "code",
   "execution_count": 2,
   "outputs": [],
   "source": [
    "// 提取出的资源目录\n",
    "val extractedDirPath = \"E:\\\\Virtual Circuit Board\\\\extracted\"\n",
    "\n",
    " // 工作目录：vcb.json 与 vcb_cn.json 保存的目录\n",
    " val workDirPath = \"E:\\\\Virtual Circuit Board\\\\vcb_cn\\\\mapping\"\n",
    "\n",
    " // 原文 json 文件名\n",
    " val mappingKeyFileName = \"vcb.json\"\n",
    "\n",
    " // 译文 json 文件名\n",
    " val mappingValueFileName = \"vcb_cn.json\""
   ],
   "metadata": {
    "collapsed": false,
    "ExecuteTime": {
     "end_time": "2023-08-03T20:33:33.442863500Z",
     "start_time": "2023-08-03T20:33:33.403862900Z"
    }
   }
  },
  {
   "cell_type": "code",
   "execution_count": 3,
   "outputs": [],
   "source": [
    "// 提取所有文本\n",
    "val regex = \"\"\"(text|hint_tooltip|title|description) = \"([\\W\\w]*?[^\\\\])\"\"\"\".toRegex()"
   ],
   "metadata": {
    "collapsed": false,
    "ExecuteTime": {
     "end_time": "2023-08-03T20:33:34.685995Z",
     "start_time": "2023-08-03T20:33:34.605994800Z"
    }
   }
  },
  {
   "cell_type": "code",
   "execution_count": 4,
   "outputs": [],
   "source": [
    "// 初始化\n",
    "import java.io.File\n",
    "val folder = File(extractedDirPath)"
   ],
   "metadata": {
    "collapsed": false,
    "ExecuteTime": {
     "end_time": "2023-08-03T20:33:36.218529400Z",
     "start_time": "2023-08-03T20:33:36.163528200Z"
    }
   }
  },
  {
   "cell_type": "code",
   "execution_count": 5,
   "outputs": [],
   "source": [
    "// 已有 vcb.json 文件后不需要再次提取\n",
    "// 提取所有文本内容至指定文件(mappingKeyFileName指定的文件)\n",
    "\n",
    "import kotlinx.serialization.json.JsonArray\n",
    "import kotlinx.serialization.json.JsonPrimitive\n",
    "\n",
    "val mappingKeys = folder.walk()\n",
    "    .filter { (it.isFile && it.extension == \"tscn\") }\n",
    "    .map { tscn ->\n",
    "        val data = tscn.readText()\n",
    "        regex.findAll(data).map {\n",
    "            it.groupValues[2]\n",
    "        }.toList()\n",
    "    }.flatMap {\n",
    "        it\n",
    "    }.toSet() // toSet 去除重复文本\n",
    "val json = JsonArray(mappingKeys.map { JsonPrimitive(it) }).toString()\n",
    "val output = File(workDirPath, mappingKeyFileName)\n",
    "output.writeText(json)"
   ],
   "metadata": {
    "collapsed": false,
    "ExecuteTime": {
     "end_time": "2023-08-03T20:33:37.204772Z",
     "start_time": "2023-08-03T20:33:36.838075300Z"
    }
   }
  },
  {
   "cell_type": "code",
   "execution_count": 6,
   "outputs": [],
   "source": [
    "// 翻译过程：将 vcb.json 文件拷贝一份到 vcb_cn.json，然后使用其他工具(如 ChatGPT )进行翻译"
   ],
   "metadata": {
    "collapsed": false,
    "ExecuteTime": {
     "end_time": "2023-08-03T20:33:38.344415Z",
     "start_time": "2023-08-03T20:33:38.321415300Z"
    }
   }
  },
  {
   "cell_type": "code",
   "execution_count": 12,
   "outputs": [],
   "source": [
    "// 制作翻译映射表\n",
    "@file:DependsOn(\"com.google.code.gson:gson:2.10.1\")\n",
    "\n",
    "import com.google.gson.Gson\n",
    "import kotlinx.serialization.json.jsonArray\n",
    "import kotlinx.serialization.json.jsonObject\n",
    "\n",
    "val untranslatedFile = File(workDirPath, mappingKeyFileName)\n",
    "val untranslatedText = untranslatedFile.readText()\n",
    "val untranslatedList = Gson().fromJson<List<String>>(untranslatedText, ArrayList::class.java)\n",
    "\n",
    "val translatedFile = File(workDirPath, mappingValueFileName)\n",
    "val translatedText = translatedFile.readText()\n",
    "val translatedList = Gson().fromJson<List<String>>(translatedText, ArrayList::class.java)\n",
    "\n",
    "val map = untranslatedList.mapIndexed { index, s ->\n",
    "    Pair(s, translatedList[index])\n",
    "}.toMap()"
   ],
   "metadata": {
    "collapsed": false,
    "ExecuteTime": {
     "end_time": "2023-08-03T20:46:09.526253500Z",
     "start_time": "2023-08-03T20:46:09.410253200Z"
    }
   }
  },
  {
   "cell_type": "code",
   "execution_count": 13,
   "outputs": [
    {
     "name": "stdout",
     "output_type": "stream",
     "text": [
      "替换完成，共完成 576 次替换\r\n"
     ]
    }
   ],
   "source": [
    "// 开始翻译\n",
    "// 更新文件夹下所有 .tscn 文件\n",
    "import java.io.FileFilter\n",
    "\n",
    "var counter = 0\n",
    "folder.walk()\n",
    "    .filter { (it.isFile && it.extension == \"tscn\") }\n",
    "    .forEach { tscn ->\n",
    "        val data = tscn.readText()\n",
    "        val newData = data.replace(regex) { mr ->\n",
    "            val newText = map[mr.groupValues[2]]\n",
    "            if (newText == null) {\n",
    "                println(\"找不到{ ${mr.groupValues[2]} }的译文，不做替换\")\n",
    "                mr.value\n",
    "            } else {\n",
    "                counter++\n",
    "                \"\"\"${mr.groupValues[1]} = \"$newText\"\"\"\"\n",
    "            }\n",
    "        }\n",
    "        tscn.writeText(newData)\n",
    "    }\n",
    "println(\"替换完成，共完成 $counter 次替换\")"
   ],
   "metadata": {
    "collapsed": false,
    "ExecuteTime": {
     "end_time": "2023-08-03T20:46:12.587996400Z",
     "start_time": "2023-08-03T20:46:12.481994500Z"
    }
   }
  },
  {
   "cell_type": "markdown",
   "source": [
    "后续操作：替换assets/fonts下的所有 FiraSans 为任意支持中文的字体，注意保持文件名相同\n",
    "\n",
    "使用以下命令打包\n",
    "```\n",
    ".\\godotpcktool.exe .\\vcb.pck -a a extracted --remove-prefix extracted\n",
    "```"
   ],
   "metadata": {
    "collapsed": false
   }
  }
 ],
 "metadata": {
  "kernelspec": {
   "display_name": "Kotlin",
   "language": "kotlin",
   "name": "kotlin"
  },
  "language_info": {
   "name": "kotlin",
   "version": "1.8.20",
   "mimetype": "text/x-kotlin",
   "file_extension": ".kt",
   "pygments_lexer": "kotlin",
   "codemirror_mode": "text/x-kotlin",
   "nbconvert_exporter": ""
  },
  "ktnbPluginMetadata": {
   "isAddProjectLibrariesToClasspath": false
  }
 },
 "nbformat": 4,
 "nbformat_minor": 0
}
